{
 "cells": [
  {
   "cell_type": "code",
   "execution_count": 1,
   "metadata": {},
   "outputs": [],
   "source": [
    "import seaborn as sns\n",
    "import numpy as np\n",
    "import matplotlib.pyplot as plt\n",
    "import pandas as pd\n",
    "import warnings\n",
    "warnings.filterwarnings(\"ignore\")"
   ]
  },
  {
   "cell_type": "code",
   "execution_count": 2,
   "metadata": {},
   "outputs": [
    {
     "data": {
      "text/plain": [
       "Index(['age', 'height', 'male', 'gay', 'straight', 'available', 'married',\n",
       "       'seeing someone', 'single', 'artistic / musical / writer',\n",
       "       ...\n",
       "       'tibetan', 'turkish', 'ukrainian', 'urdu', 'vietnamese', 'welsh',\n",
       "       'yiddish', 'last_online_year', 'last_online_month',\n",
       "       'last_online_weekday'],\n",
       "      dtype='object', length=405)"
      ]
     },
     "execution_count": 2,
     "metadata": {},
     "output_type": "execute_result"
    }
   ],
   "source": [
    "ok_cupid_df = pd.read_csv('data/okcupid_profiles_clean.csv')\n",
    "ok_cupid_df.columns"
   ]
  },
  {
   "cell_type": "code",
   "execution_count": 3,
   "metadata": {},
   "outputs": [
    {
     "data": {
      "text/plain": [
       "(59943, 405)"
      ]
     },
     "execution_count": 3,
     "metadata": {},
     "output_type": "execute_result"
    }
   ],
   "source": [
    "ok_cupid_df.shape"
   ]
  },
  {
   "cell_type": "code",
   "execution_count": 4,
   "metadata": {},
   "outputs": [
    {
     "name": "stdout",
     "output_type": "stream",
     "text": [
      "<class 'pandas.core.frame.DataFrame'>\n",
      "RangeIndex: 59943 entries, 0 to 59942\n",
      "Columns: 405 entries, age to last_online_weekday\n",
      "dtypes: float64(1), int64(404)\n",
      "memory usage: 185.2 MB\n"
     ]
    }
   ],
   "source": [
    "ok_cupid_df.info()"
   ]
  },
  {
   "cell_type": "code",
   "execution_count": 5,
   "metadata": {},
   "outputs": [
    {
     "data": {
      "text/html": [
       "<div>\n",
       "<style scoped>\n",
       "    .dataframe tbody tr th:only-of-type {\n",
       "        vertical-align: middle;\n",
       "    }\n",
       "\n",
       "    .dataframe tbody tr th {\n",
       "        vertical-align: top;\n",
       "    }\n",
       "\n",
       "    .dataframe thead th {\n",
       "        text-align: right;\n",
       "    }\n",
       "</style>\n",
       "<table border=\"1\" class=\"dataframe\">\n",
       "  <thead>\n",
       "    <tr style=\"text-align: right;\">\n",
       "      <th></th>\n",
       "      <th>age</th>\n",
       "      <th>height</th>\n",
       "      <th>male</th>\n",
       "      <th>gay</th>\n",
       "      <th>straight</th>\n",
       "      <th>available</th>\n",
       "      <th>married</th>\n",
       "      <th>seeing someone</th>\n",
       "      <th>single</th>\n",
       "      <th>artistic / musical / writer</th>\n",
       "      <th>...</th>\n",
       "      <th>tibetan</th>\n",
       "      <th>turkish</th>\n",
       "      <th>ukrainian</th>\n",
       "      <th>urdu</th>\n",
       "      <th>vietnamese</th>\n",
       "      <th>welsh</th>\n",
       "      <th>yiddish</th>\n",
       "      <th>last_online_year</th>\n",
       "      <th>last_online_month</th>\n",
       "      <th>last_online_weekday</th>\n",
       "    </tr>\n",
       "  </thead>\n",
       "  <tbody>\n",
       "    <tr>\n",
       "      <th>0</th>\n",
       "      <td>22</td>\n",
       "      <td>75.0</td>\n",
       "      <td>1</td>\n",
       "      <td>0</td>\n",
       "      <td>1</td>\n",
       "      <td>0</td>\n",
       "      <td>0</td>\n",
       "      <td>0</td>\n",
       "      <td>1</td>\n",
       "      <td>0</td>\n",
       "      <td>...</td>\n",
       "      <td>0</td>\n",
       "      <td>0</td>\n",
       "      <td>0</td>\n",
       "      <td>0</td>\n",
       "      <td>0</td>\n",
       "      <td>0</td>\n",
       "      <td>0</td>\n",
       "      <td>2012</td>\n",
       "      <td>6</td>\n",
       "      <td>1</td>\n",
       "    </tr>\n",
       "    <tr>\n",
       "      <th>1</th>\n",
       "      <td>35</td>\n",
       "      <td>70.0</td>\n",
       "      <td>1</td>\n",
       "      <td>0</td>\n",
       "      <td>1</td>\n",
       "      <td>0</td>\n",
       "      <td>0</td>\n",
       "      <td>0</td>\n",
       "      <td>1</td>\n",
       "      <td>0</td>\n",
       "      <td>...</td>\n",
       "      <td>0</td>\n",
       "      <td>0</td>\n",
       "      <td>0</td>\n",
       "      <td>0</td>\n",
       "      <td>0</td>\n",
       "      <td>0</td>\n",
       "      <td>0</td>\n",
       "      <td>2012</td>\n",
       "      <td>6</td>\n",
       "      <td>1</td>\n",
       "    </tr>\n",
       "  </tbody>\n",
       "</table>\n",
       "<p>2 rows × 405 columns</p>\n",
       "</div>"
      ],
      "text/plain": [
       "   age  height  male  gay  straight  available  married  seeing someone  \\\n",
       "0   22    75.0     1    0         1          0        0               0   \n",
       "1   35    70.0     1    0         1          0        0               0   \n",
       "\n",
       "   single  artistic / musical / writer  ...  tibetan  turkish  ukrainian  \\\n",
       "0       1                            0  ...        0        0          0   \n",
       "1       1                            0  ...        0        0          0   \n",
       "\n",
       "   urdu  vietnamese  welsh  yiddish  last_online_year  last_online_month  \\\n",
       "0     0           0      0        0              2012                  6   \n",
       "1     0           0      0        0              2012                  6   \n",
       "\n",
       "   last_online_weekday  \n",
       "0                    1  \n",
       "1                    1  \n",
       "\n",
       "[2 rows x 405 columns]"
      ]
     },
     "execution_count": 5,
     "metadata": {},
     "output_type": "execute_result"
    }
   ],
   "source": [
    "ok_cupid_df.head(2)"
   ]
  },
  {
   "cell_type": "code",
   "execution_count": 6,
   "metadata": {},
   "outputs": [],
   "source": [
    "ok_cupid_df_log = np.log(ok_cupid_df+1)"
   ]
  },
  {
   "cell_type": "code",
   "execution_count": 7,
   "metadata": {},
   "outputs": [],
   "source": [
    "ok_cupid_df_log_sample = ok_cupid_df_log.sample(frac=0.2)"
   ]
  },
  {
   "cell_type": "code",
   "execution_count": 8,
   "metadata": {},
   "outputs": [
    {
     "ename": "NameError",
     "evalue": "name 'lklk' is not defined",
     "output_type": "error",
     "traceback": [
      "\u001b[0;31m---------------------------------------------------------------------------\u001b[0m",
      "\u001b[0;31mNameError\u001b[0m                                 Traceback (most recent call last)",
      "\u001b[0;32m<ipython-input-8-1f457c253e76>\u001b[0m in \u001b[0;36m<module>\u001b[0;34m\u001b[0m\n\u001b[0;32m----> 1\u001b[0;31m \u001b[0mlklk\u001b[0m\u001b[0;34m\u001b[0m\u001b[0;34m\u001b[0m\u001b[0m\n\u001b[0m",
      "\u001b[0;31mNameError\u001b[0m: name 'lklk' is not defined"
     ]
    }
   ],
   "source": [
    "lklk"
   ]
  },
  {
   "cell_type": "code",
   "execution_count": 9,
   "metadata": {},
   "outputs": [],
   "source": [
    "from sklearn.decomposition import PCA\n",
    "\n",
    "# set up our PCA object, we'll take a look at the first 4 principal components\n",
    "pca = PCA()\n",
    "pca_log = PCA()\n",
    "pca_log_sample = PCA()\n",
    "\n",
    "pca.fit(ok_cupid_df)\n",
    "pca_log.fit(ok_cupid_df_log)\n",
    "pca_log_sample.fit(ok_cupid_df_log_sample)\n",
    "\n",
    "pc_df = pca.transform(ok_cupid_df)\n",
    "pc_df_log = pca.transform(ok_cupid_df_log)\n",
    "pc_df_log_sample = pca.transform(ok_cupid_df_log_sample)"
   ]
  },
  {
   "cell_type": "code",
   "execution_count": 10,
   "metadata": {},
   "outputs": [],
   "source": [
    "cumulative_sum = np.cumsum(pca_log_sample.explained_variance_ratio_)\n",
    "expl_var = pca_log_sample.explained_variance_ratio_"
   ]
  },
  {
   "cell_type": "code",
   "execution_count": 13,
   "metadata": {
    "collapsed": true,
    "jupyter": {
     "outputs_hidden": true,
     "source_hidden": true
    },
    "tags": []
   },
   "outputs": [
    {
     "data": {
      "image/png": "[encoded data removed]",
      "text/plain": [
       "<Figure size 1080x360 with 2 Axes>"
      ]
     },
     "metadata": {
      "needs_background": "light"
     },
     "output_type": "display_data"
    }
   ],
   "source": [
    "# examine plot for a potential elbow\n",
    "plt.subplots(1,2,figsize=(15,5))\n",
    "plt.subplot(1,2,1)\n",
    "plt.plot(range(1,cumulative_sum.shape[0]+1), cumulative_sum, marker='.')\n",
    "plt.xlabel('N Principal Components')\n",
    "plt.ylabel('Total variance explained')\n",
    "#plt.xticks(range(0,2744,200))\n",
    "\n",
    "plt.subplot(1,2,2)\n",
    "plt.plot(range(1,cumulative_sum.shape[0]+1), cumulative_sum, marker='.')\n",
    "plt.xlabel('N Principal Components')\n",
    "plt.ylabel('Total variance explained')\n",
    "plt.title('Zoom in on the x-axis')\n",
    "plt.xlim(0,100)\n",
    "\n",
    "plt.show()"
   ]
  },
  {
   "cell_type": "code",
   "execution_count": 14,
   "metadata": {},
   "outputs": [],
   "source": [
    "pca_log_sample = PCA(n_components=100)"
   ]
  },
  {
   "cell_type": "code",
   "execution_count": 15,
   "metadata": {},
   "outputs": [],
   "source": [
    "pc_df_log_sample = pca_log_sample.fit_transform(ok_cupid_df_log_sample)"
   ]
  },
  {
   "cell_type": "code",
   "execution_count": null,
   "metadata": {
    "tags": []
   },
   "outputs": [],
   "source": [
    "sns.pairplot(pd.DataFrame(pc_data))"
   ]
  },
  {
   "cell_type": "code",
   "execution_count": null,
   "metadata": {},
   "outputs": [],
   "source": [
    "sns.pairplot(pd.DataFrame(pc_df_log_sample))"
   ]
  },
  {
   "cell_type": "code",
   "execution_count": null,
   "metadata": {},
   "outputs": [],
   "source": [
    "#sns.pairplot(pd.DataFrame(pc_data_log))"
   ]
  },
  {
   "cell_type": "raw",
   "metadata": {
    "jupyter": {
     "outputs_hidden": true
    },
    "tags": []
   },
   "source": [
    "for column in ok_cupid_df.columns:\n",
    "    \n",
    "    plt.subplots(1,2, figsize=(7,3))\n",
    "    \n",
    "    # plot original hist\n",
    "    plt.subplot(1,2,1)\n",
    "    plt.hist(ok_cupid_df[column], bins=25)\n",
    "    plt.title(f'Histogram of {column}')\n",
    "    \n",
    "    # plot transformed hist\n",
    "    plt.subplot(1,2,2)\n",
    "    plt.hist(ok_cupid_df_log[column], bins=25)\n",
    "    plt.title(f'Histogram: Log of {column}')\n",
    "    \n",
    "    plt.tight_layout()\n",
    "    plt.show()"
   ]
  },
  {
   "cell_type": "code",
   "execution_count": null,
   "metadata": {},
   "outputs": [],
   "source": [
    "from sklearn.preprocessing import StandardScaler\n",
    "\n",
    "scaler = StandardScaler()\n",
    "\n",
    "X = scaler.fit_transform(ok_cupid_df)"
   ]
  },
  {
   "cell_type": "code",
   "execution_count": null,
   "metadata": {},
   "outputs": [],
   "source": [
    "X_log = scaler.fit_transform(ok_cupid_df_log)"
   ]
  },
  {
   "cell_type": "code",
   "execution_count": null,
   "metadata": {},
   "outputs": [],
   "source": [
    "from sklearn.cluster import KMeans\n",
    "\n",
    "k_values = range(1, 21)\n",
    "inertia_list = []\n",
    "\n",
    "for k in k_values:\n",
    "    \n",
    "    # Create & fit our kmeans model\n",
    "    kmeans = KMeans(n_clusters=k)\n",
    "    kmeans.fit(X)\n",
    "    \n",
    "    # Get inertia score and add to our list\n",
    "    inertia_list.append(kmeans.inertia_)"
   ]
  },
  {
   "cell_type": "code",
   "execution_count": null,
   "metadata": {},
   "outputs": [],
   "source": [
    "k_values_log = range(1, 21)\n",
    "inertia_list_log = []\n",
    "\n",
    "for k in k_values_log:\n",
    "    \n",
    "    # Create & fit our kmeans model\n",
    "    kmeans_log = KMeans(n_clusters=k)\n",
    "    kmeans_log.fit(X_log)\n",
    "    \n",
    "    # Get inertia score and add to our list\n",
    "    inertia_list_log.append(kmeans_log.inertia_)"
   ]
  },
  {
   "cell_type": "code",
   "execution_count": null,
   "metadata": {},
   "outputs": [],
   "source": [
    "# Visualize the scree plot\n",
    "plt.figure()\n",
    "plt.plot(k_values, inertia_list, marker='.')\n",
    "plt.xlabel('number of clusters')\n",
    "plt.ylabel('inertia score')\n",
    "plt.show()"
   ]
  },
  {
   "cell_type": "code",
   "execution_count": null,
   "metadata": {},
   "outputs": [],
   "source": [
    "# Visualize the scree plot\n",
    "plt.figure()\n",
    "plt.plot(k_values_log, inertia_list_log, marker='.')\n",
    "plt.xlabel('number of clusters')\n",
    "plt.ylabel('inertia score')\n",
    "plt.title('Log')\n",
    "plt.show()"
   ]
  },
  {
   "cell_type": "code",
   "execution_count": null,
   "metadata": {},
   "outputs": [],
   "source": []
  }
 ],
 "metadata": {
  "kernelspec": {
   "display_name": "Python 3",
   "language": "python",
   "name": "python3"
  },
  "language_info": {
   "codemirror_mode": {
    "name": "ipython",
    "version": 3
   },
   "file_extension": ".py",
   "mimetype": "text/x-python",
   "name": "python",
   "nbconvert_exporter": "python",
   "pygments_lexer": "ipython3",
   "version": "3.8.5"
  }
 },
 "nbformat": 4,
 "nbformat_minor": 4
}
